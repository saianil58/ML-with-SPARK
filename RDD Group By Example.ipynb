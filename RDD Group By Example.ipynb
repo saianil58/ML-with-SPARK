{
 "cells": [
  {
   "cell_type": "markdown",
   "metadata": {},
   "source": [
    "# Group By Example using RDD"
   ]
  },
  {
   "cell_type": "markdown",
   "metadata": {},
   "source": [
    "In this notebook we would look at creating RDD using a text file which contains customer data and then we will find the customer counts based on cities,\n",
    "\n",
    "RDD's are building blocks for Spark and we shall export a few methods to handle data analysis using them."
   ]
  },
  {
   "cell_type": "markdown",
   "metadata": {},
   "source": [
    "# Setup the Spark Context\n",
    "## Set the Java path"
   ]
  },
  {
   "cell_type": "code",
   "execution_count": 1,
   "metadata": {},
   "outputs": [],
   "source": [
    "# SPARK works with only java 8 so specify the java8 path\n",
    "import os\n",
    "os.environ['JAVA_HOME'] = r'C:\\Program Files\\Java\\jdk1.8.0_202'"
   ]
  },
  {
   "cell_type": "markdown",
   "metadata": {},
   "source": [
    "## Setup SparkContext"
   ]
  },
  {
   "cell_type": "code",
   "execution_count": 2,
   "metadata": {},
   "outputs": [],
   "source": [
    "# SparkContext will be the starting point for any execution\n",
    "from pyspark import SparkContext, SparkConf\n",
    "\n",
    "#Specify the host ip of for spark \n",
    "conf = SparkConf().set('spark.driver.host', '127.0.0.1')\n",
    "\n",
    "# Specify the SparkContext based on above configuration\n",
    "sc = SparkContext(master='local', appName='myAppName', conf=conf)"
   ]
  },
  {
   "cell_type": "markdown",
   "metadata": {},
   "source": [
    "# Get Input data\n",
    "\n",
    "Usually this would be from HDFS, however for now it would be local machine path\n",
    "and guess what spark can support txt, csv, JSON and many other data sources"
   ]
  },
  {
   "cell_type": "code",
   "execution_count": 3,
   "metadata": {},
   "outputs": [],
   "source": [
    "# Read the csv file and load it into an RDD with name input\n",
    "input=sc.textFile('group_by_test.txt')"
   ]
  },
  {
   "cell_type": "markdown",
   "metadata": {},
   "source": [
    "## Check the RDD"
   ]
  },
  {
   "cell_type": "code",
   "execution_count": 4,
   "metadata": {},
   "outputs": [
    {
     "data": {
      "text/plain": [
       "group_by_test.txt MapPartitionsRDD[1] at textFile at NativeMethodAccessorImpl.java:0"
      ]
     },
     "execution_count": 4,
     "metadata": {},
     "output_type": "execute_result"
    }
   ],
   "source": [
    "input"
   ]
  },
  {
   "cell_type": "markdown",
   "metadata": {},
   "source": [
    "The RDD is an object and not a pandas dataframe, hence we would need special functions to view data in it."
   ]
  },
  {
   "cell_type": "code",
   "execution_count": 5,
   "metadata": {},
   "outputs": [
    {
     "data": {
      "text/plain": [
       "['Cust_9999997,,India,east,Jharkand,Ranchi,2020-01-10 15:10:38.562000',\n",
       " 'Cust_9999995,,India,south,tamil nadu,Chennai,2020-01-10 15:10:38.562000',\n",
       " 'Cust_9999964,,India,west,Maharashtra,Mumbai,2020-01-10 15:10:38.562000']"
      ]
     },
     "execution_count": 5,
     "metadata": {},
     "output_type": "execute_result"
    }
   ],
   "source": [
    "# View top 3 records\n",
    "input.top(3)"
   ]
  },
  {
   "cell_type": "code",
   "execution_count": 6,
   "metadata": {},
   "outputs": [
    {
     "data": {
      "text/plain": [
       "['Cust_2337980,,India,south,karnataka,Bangalore,2020-01-10 15:10:38.562000',\n",
       " 'Cust_5132227,,India,north,Haryana,Rohtak,2020-01-10 15:10:38.562000',\n",
       " 'Cust_3758463,,India,west,Gujarat,Ahmedabad,2020-01-10 15:10:38.562000',\n",
       " 'Cust_5782791,,India,north,UttarPradesh,Kanpur,2020-01-10 15:10:38.562000',\n",
       " 'Cust_6471658,,India,north,Haryana,Rohtak,2020-01-10 15:10:38.562000']"
      ]
     },
     "execution_count": 6,
     "metadata": {},
     "output_type": "execute_result"
    }
   ],
   "source": [
    "# View random 5 records\n",
    "input.take(5)"
   ]
  },
  {
   "cell_type": "markdown",
   "metadata": {},
   "source": [
    "# Bring out City value"
   ]
  },
  {
   "cell_type": "markdown",
   "metadata": {},
   "source": [
    "RDD's are immutable, which means, once there is a value in RDD, it cannot be overridden.\n",
    "\n",
    "Hence for any transformations, it would create a new RDD"
   ]
  },
  {
   "cell_type": "code",
   "execution_count": 7,
   "metadata": {},
   "outputs": [
    {
     "data": {
      "text/plain": [
       "PythonRDD[4] at RDD at PythonRDD.scala:53"
      ]
     },
     "execution_count": 7,
     "metadata": {},
     "output_type": "execute_result"
    }
   ],
   "source": [
    "input.map(lambda x:x.split(',')[5])"
   ]
  },
  {
   "cell_type": "markdown",
   "metadata": {},
   "source": [
    "The above line says PythonRDD[4] as this would be the 4th transformation on the input RDD from intiation"
   ]
  },
  {
   "cell_type": "code",
   "execution_count": 8,
   "metadata": {},
   "outputs": [],
   "source": [
    "# Make city a seperate RDD\n",
    "city=input.map(lambda x:x.split(',')[5])"
   ]
  },
  {
   "cell_type": "code",
   "execution_count": 9,
   "metadata": {},
   "outputs": [
    {
     "data": {
      "text/plain": [
       "['Vadodara', 'Vadodara', 'Vadodara', 'Vadodara']"
      ]
     },
     "execution_count": 9,
     "metadata": {},
     "output_type": "execute_result"
    }
   ],
   "source": [
    "city.top(4)"
   ]
  },
  {
   "cell_type": "markdown",
   "metadata": {},
   "source": [
    "# Check cities and their counts"
   ]
  },
  {
   "cell_type": "code",
   "execution_count": 10,
   "metadata": {},
   "outputs": [],
   "source": [
    "counts=city.countByValue()"
   ]
  },
  {
   "cell_type": "code",
   "execution_count": 11,
   "metadata": {},
   "outputs": [
    {
     "data": {
      "text/plain": [
       "defaultdict(int,\n",
       "            {'Bangalore': 6153,\n",
       "             'Rohtak': 6403,\n",
       "             'Ahmedabad': 6216,\n",
       "             'Kanpur': 6323,\n",
       "             'Ranchi': 6250,\n",
       "             'Mysore': 6255,\n",
       "             'Lucknow': 6258,\n",
       "             'Vadodara': 6307,\n",
       "             'Chennai': 6127,\n",
       "             'Pune': 6327,\n",
       "             'Madhurai': 6271,\n",
       "             'Gurgaon': 6205,\n",
       "             'Jamshedpur': 6266,\n",
       "             'Darjeeling': 6285,\n",
       "             'Kolkata': 6204,\n",
       "             'Mumbai': 6150})"
      ]
     },
     "execution_count": 11,
     "metadata": {},
     "output_type": "execute_result"
    }
   ],
   "source": [
    "counts"
   ]
  },
  {
   "cell_type": "markdown",
   "metadata": {},
   "source": [
    "# Stop the SPARK Context"
   ]
  },
  {
   "cell_type": "code",
   "execution_count": 12,
   "metadata": {},
   "outputs": [],
   "source": [
    "sc.stop()"
   ]
  },
  {
   "cell_type": "markdown",
   "metadata": {},
   "source": [
    "# Summary\n",
    "\n",
    "1. SparkContext will be the starting point\n",
    "2. We can read data from multiple data sources\n",
    "3. RDD's are immutable and hence we will get a new RDD each time a transformation is ran\n",
    "4. 'top' is a function to check first rows, 'take' is similar to sample in pandas\n",
    "5. we can write 'map' and 'lambda' similar to pandas dataframe to work on all elements\n",
    "6. 'countByValue' is similar to value_counts() which will give the counts for each value.\n",
    "7. SparkContext once started should be stopped at end."
   ]
  }
 ],
 "metadata": {
  "kernelspec": {
   "display_name": "Python 3",
   "language": "python",
   "name": "python3"
  },
  "language_info": {
   "codemirror_mode": {
    "name": "ipython",
    "version": 3
   },
   "file_extension": ".py",
   "mimetype": "text/x-python",
   "name": "python",
   "nbconvert_exporter": "python",
   "pygments_lexer": "ipython3",
   "version": "3.7.4"
  },
  "toc": {
   "base_numbering": 1,
   "nav_menu": {},
   "number_sections": true,
   "sideBar": true,
   "skip_h1_title": false,
   "title_cell": "Table of Contents",
   "title_sidebar": "Contents",
   "toc_cell": false,
   "toc_position": {},
   "toc_section_display": true,
   "toc_window_display": false
  }
 },
 "nbformat": 4,
 "nbformat_minor": 2
}
