{
 "cells": [
  {
   "cell_type": "code",
   "execution_count": 1,
   "metadata": {},
   "outputs": [],
   "source": [
    "import warnings\n",
    "warnings.filterwarnings('ignore')\n",
    "from pyspark import SparkContext, SparkConf\n",
    "import os\n",
    "os.environ['JAVA_HOME'] = r'C:\\Program Files\\Java\\jdk1.8.0_202'\n",
    "\n",
    "conf = SparkConf().set('spark.driver.host', '127.0.0.1')\n",
    "sc = SparkContext( appName='myAppName')# should be the same else, we arent getting results"
   ]
  },
  {
   "cell_type": "code",
   "execution_count": 2,
   "metadata": {},
   "outputs": [],
   "source": [
    "from pyspark.streaming  import StreamingContext"
   ]
  },
  {
   "cell_type": "code",
   "execution_count": 3,
   "metadata": {},
   "outputs": [],
   "source": [
    "ssc=StreamingContext(sc,60)"
   ]
  },
  {
   "cell_type": "code",
   "execution_count": 4,
   "metadata": {},
   "outputs": [],
   "source": [
    "socket_stream=ssc.socketTextStream(\"127.0.0.1\",5556)"
   ]
  },
  {
   "cell_type": "code",
   "execution_count": 5,
   "metadata": {},
   "outputs": [],
   "source": [
    "lines=socket_stream.window(windowDuration=60)"
   ]
  },
  {
   "cell_type": "code",
   "execution_count": 6,
   "metadata": {},
   "outputs": [],
   "source": [
    "hashtags = lines.flatMap(lambda text: text.split(\" \"))\\\n",
    "                .filter(lambda word: word.lower().startswith('#'))\\\n",
    "                .map(lambda word: (word.lower(), 1))\\\n",
    "                .reduceByKey(lambda a, b: (a + b),1)"
   ]
  },
  {
   "cell_type": "code",
   "execution_count": 7,
   "metadata": {},
   "outputs": [],
   "source": [
    "sorted = hashtags.transform(\n",
    "    lambda rdd: rdd.sortBy(lambda x: x[1], ascending=False))"
   ]
  },
  {
   "cell_type": "code",
   "execution_count": 8,
   "metadata": {},
   "outputs": [],
   "source": [
    "sorted.pprint(10)"
   ]
  },
  {
   "cell_type": "code",
   "execution_count": 9,
   "metadata": {},
   "outputs": [],
   "source": [
    "ssc.start()"
   ]
  },
  {
   "cell_type": "code",
   "execution_count": null,
   "metadata": {},
   "outputs": [
    {
     "name": "stdout",
     "output_type": "stream",
     "text": [
      "-------------------------------------------\n",
      "Time: 2020-05-29 12:20:00\n",
      "-------------------------------------------\n",
      "('#locustsattack', 3)\n",
      "('#locust', 2)\n",
      "('#india', 1)\n",
      "('#delhi', 1)\n",
      "('#karn…rt', 1)\n",
      "('#arnabgoswami', 1)\n",
      "('#locustattack', 1)\n",
      "('#aatmanirbhar', 1)\n",
      "('#quarantinert', 1)\n",
      "\n",
      "-------------------------------------------\n",
      "Time: 2020-05-29 12:21:00\n",
      "-------------------------------------------\n",
      "('#locust', 2)\n",
      "('#locustrt', 2)\n",
      "('#locustinvasion', 1)\n",
      "\n"
     ]
    }
   ],
   "source": [
    "ssc.awaitTermination()"
   ]
  }
 ],
 "metadata": {
  "kernelspec": {
   "display_name": "Python 3",
   "language": "python",
   "name": "python3"
  },
  "language_info": {
   "codemirror_mode": {
    "name": "ipython",
    "version": 3
   },
   "file_extension": ".py",
   "mimetype": "text/x-python",
   "name": "python",
   "nbconvert_exporter": "python",
   "pygments_lexer": "ipython3",
   "version": "3.7.4"
  },
  "toc": {
   "base_numbering": 1,
   "nav_menu": {},
   "number_sections": true,
   "sideBar": true,
   "skip_h1_title": false,
   "title_cell": "Table of Contents",
   "title_sidebar": "Contents",
   "toc_cell": false,
   "toc_position": {},
   "toc_section_display": true,
   "toc_window_display": false
  }
 },
 "nbformat": 4,
 "nbformat_minor": 2
}
