{
 "cells": [
  {
   "cell_type": "code",
   "execution_count": 1,
   "metadata": {},
   "outputs": [],
   "source": [
    "import warnings\n",
    "warnings.filterwarnings('ignore')\n",
    "from pyspark import SparkContext, SparkConf\n",
    "import os\n",
    "os.environ['JAVA_HOME'] = r'C:\\Program Files\\Java\\jdk1.8.0_202'\n",
    "\n",
    "conf = SparkConf().set('spark.driver.host', '127.0.0.1')\n",
    "sc = SparkContext( appName='myAppName')# should be the same else, we arent getting results"
   ]
  },
  {
   "cell_type": "code",
   "execution_count": 2,
   "metadata": {},
   "outputs": [],
   "source": [
    "from pyspark.streaming  import StreamingContext"
   ]
  },
  {
   "cell_type": "code",
   "execution_count": 3,
   "metadata": {},
   "outputs": [],
   "source": [
    "ssc=StreamingContext(sc,60)"
   ]
  },
  {
   "cell_type": "code",
   "execution_count": 4,
   "metadata": {},
   "outputs": [],
   "source": [
    "socket_stream=ssc.socketTextStream(\"127.0.0.1\",5556)"
   ]
  },
  {
   "cell_type": "code",
   "execution_count": 5,
   "metadata": {},
   "outputs": [],
   "source": [
    "lines=socket_stream.window(windowDuration=60)"
   ]
  },
  {
   "cell_type": "code",
   "execution_count": 6,
   "metadata": {},
   "outputs": [],
   "source": [
    "RTs = lines.flatMap(lambda text: text.split(\" \"))\\\n",
    "                .filter(lambda word: word.lower().startswith('@'))\\\n",
    "                .map(lambda word: (word.lower(), 1))\\\n",
    "                .reduceByKey(lambda a, b: (a + b),1)"
   ]
  },
  {
   "cell_type": "code",
   "execution_count": 7,
   "metadata": {},
   "outputs": [],
   "source": [
    "sorted = RTs.transform(\n",
    "    lambda rdd: rdd.sortBy(lambda x: x[1], ascending=False))"
   ]
  },
  {
   "cell_type": "code",
   "execution_count": 8,
   "metadata": {},
   "outputs": [],
   "source": [
    "sorted.pprint()"
   ]
  },
  {
   "cell_type": "code",
   "execution_count": 9,
   "metadata": {},
   "outputs": [],
   "source": [
    "# start streaming and wait couple of minutes to get enought tweets\n",
    "ssc.start()"
   ]
  },
  {
   "cell_type": "code",
   "execution_count": null,
   "metadata": {},
   "outputs": [
    {
     "name": "stdout",
     "output_type": "stream",
     "text": [
      "-------------------------------------------\n",
      "Time: 2020-05-29 12:10:00\n",
      "-------------------------------------------\n",
      "\n",
      "-------------------------------------------\n",
      "Time: 2020-05-29 12:11:00\n",
      "-------------------------------------------\n",
      "('@dhruv_rathee:', 13)\n",
      "('@free_thinker:', 10)\n",
      "('@republic', 10)\n",
      "('@sadhgurujv:', 6)\n",
      "('@opindia_com:', 2)\n",
      "('@benazir_shah:', 2)\n",
      "('@ra_c7r:', 2)\n",
      "('@ajenglish:', 1)\n",
      "('@thesquind:', 1)\n",
      "('@igwomensafety:', 1)\n",
      "...\n",
      "\n",
      "-------------------------------------------\n",
      "Time: 2020-05-29 12:12:00\n",
      "-------------------------------------------\n",
      "('@dhruv_rathee:', 17)\n",
      "('@sadhgurujv:', 6)\n",
      "('@free_thinker:', 5)\n",
      "('@republic', 5)\n",
      "('@twitterindia', 2)\n",
      "('@schandillia:', 2)\n",
      "('@mr_lolwa:', 2)\n",
      "('@whonehr:', 2)\n",
      "('@parveenkaswan:', 1)\n",
      "('@martinhaeusling', 1)\n",
      "...\n",
      "\n",
      "-------------------------------------------\n",
      "Time: 2020-05-29 12:13:00\n",
      "-------------------------------------------\n",
      "('@dhruv_rathee:', 14)\n",
      "('@free_thinker:', 8)\n",
      "('@republic', 8)\n",
      "('@sadhgurujv:', 8)\n",
      "('@saru81589968:', 2)\n",
      "('@twitterindia', 2)\n",
      "('@shomachaudhury:', 1)\n",
      "('@samant_uday', 1)\n",
      "('@authackeray', 1)\n",
      "('@sardesaivarun', 1)\n",
      "...\n",
      "\n"
     ]
    }
   ],
   "source": [
    "ssc.awaitTermination()"
   ]
  }
 ],
 "metadata": {
  "kernelspec": {
   "display_name": "Python 3",
   "language": "python",
   "name": "python3"
  },
  "language_info": {
   "codemirror_mode": {
    "name": "ipython",
    "version": 3
   },
   "file_extension": ".py",
   "mimetype": "text/x-python",
   "name": "python",
   "nbconvert_exporter": "python",
   "pygments_lexer": "ipython3",
   "version": "3.7.4"
  },
  "toc": {
   "base_numbering": 1,
   "nav_menu": {},
   "number_sections": true,
   "sideBar": true,
   "skip_h1_title": false,
   "title_cell": "Table of Contents",
   "title_sidebar": "Contents",
   "toc_cell": false,
   "toc_position": {},
   "toc_section_display": true,
   "toc_window_display": false
  }
 },
 "nbformat": 4,
 "nbformat_minor": 2
}
